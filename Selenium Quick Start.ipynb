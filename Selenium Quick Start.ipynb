{
 "cells": [
  {
   "cell_type": "markdown",
   "metadata": {},
   "source": [
    "### Installing Selenium"
   ]
  },
  {
   "cell_type": "code",
   "execution_count": null,
   "metadata": {},
   "outputs": [],
   "source": [
    "pip install selenium "
   ]
  },
  {
   "cell_type": "markdown",
   "metadata": {},
   "source": [
    "### Launching Web Browser"
   ]
  },
  {
   "cell_type": "code",
   "execution_count": 2,
   "metadata": {},
   "outputs": [],
   "source": [
    "from selenium import webdriver"
   ]
  },
  {
   "cell_type": "code",
   "execution_count": null,
   "metadata": {},
   "outputs": [],
   "source": [
    "from selenium.webdriver import ActionChains\n",
    "from selenium.webdriver.support import expected_conditions as EC\n",
    "from selenium.webdriver.support.ui import WebDriverWait\n",
    "from selenium.webdriver.common.by import By\n",
    "from selenium.webdriver.support.ui import Select\n",
    "from selenium.webdriver.common.keys import Keys"
   ]
  },
  {
   "cell_type": "code",
   "execution_count": 19,
   "metadata": {},
   "outputs": [],
   "source": [
    "#Automating Alexa Signup\n",
    "import time\n",
    "from selenium.webdriver.support.ui import Select\n",
    "\n",
    "driver = webdriver.Chrome(executable_path=r\"E:\\Resourses\\automation_testing\\Drivers\\chromedriver_win32\\chromedriver.exe\")\n",
    "driver.get(\"https://www.alexa.com/register\")\n",
    "driver.maximize_window()\n",
    "\n",
    "driver.find_element_by_id(\"first-name\").send_keys(\"ABC\")\n",
    "driver.find_element_by_id(\"last-name\").send_keys(\"PQR\")\n",
    "driver.find_element_by_id(\"register-email\").send_keys(\"abc@gmail.com\")\n",
    "\n",
    "\n",
    "job_func = Select(driver.find_element_by_id(\"job-function\"))\n",
    "job_func.select_by_visible_text(\"Sales\")\n",
    "\n",
    "# print(job_func.options)\n",
    "# for ele in job_func.options:\n",
    "#     print(ele.text)\n",
    "\n",
    "Select(driver.find_element_by_id('industry')).select_by_visible_text(\"Software\")\n",
    "Select(driver.find_element_by_id('company-size')).select_by_index(2)\n",
    "\n",
    "if driver.find_element_by_xpath(\"//*[@id='register-form']/div[8]/div/button\").is_enabled():\n",
    "# driver.find_element_by_xpath(\"//*[@id='register-form']/div[8]/div/button\").is_displayed()\n",
    "\n",
    "    driver.find_element_by_xpath(\"//*[@id='register-form']/div[8]/div/button\").click()\n",
    "\n",
    "time.sleep(10)\n",
    "driver.close()"
   ]
  },
  {
   "cell_type": "code",
   "execution_count": 23,
   "metadata": {},
   "outputs": [],
   "source": [
    "#Submenu Click using ActionChains\n",
    "import time\n",
    "from selenium.webdriver.support.ui import Select\n",
    "from selenium.webdriver import ActionChains\n",
    "\n",
    "driver = webdriver.Chrome(executable_path=r\"E:\\Resourses\\automation_testing\\Drivers\\chromedriver_win32\\chromedriver.exe\")\n",
    "driver.get(\"https://www.alexa.com/register\")\n",
    "driver.maximize_window()\n",
    "\n",
    "actions = ActionChains(driver)\n",
    "actions.move_to_element(driver.find_element_by_xpath(\"//*[@id='alx-header']/div/section[2]/div[1]\"))\n",
    "actions.move_to_element(driver.find_element_by_xpath(\"//*[@id='alx-header']/div/section[2]/div[1]/div/div/div[1]/ul/li[1]/a\")).click()\n",
    "actions.perform()\n",
    "\n",
    "\n",
    "time.sleep(10)\n",
    "driver.close()"
   ]
  },
  {
   "cell_type": "code",
   "execution_count": 4,
   "metadata": {},
   "outputs": [
    {
     "name": "stdout",
     "output_type": "stream",
     "text": [
      "Learn job-relevant skills at ₹0 upfront cost under ISA(Income Sharing Agreement)\n",
      "https://www.edyoda.com/\n"
     ]
    }
   ],
   "source": [
    "##Create driver object\n",
    "driver = webdriver.Chrome(executable_path=r\"E:\\Resourses\\automation_testing\\Drivers\\chromedriver_win32\\chromedriver.exe\")\n",
    "driver.get(\"https://www.edyoda.com\")\n",
    "print(driver.title) ##get current page title\n",
    "print(driver.current_url) # get current page url\n",
    "\n",
    "#Navigation\n",
    "driver.back()\n",
    "driver.forward()\n",
    "\n",
    "#CLosing the browser window\n",
    "driver.close() #close the current focused tab\n",
    "driver.quit() #close all the tabs\n"
   ]
  },
  {
   "cell_type": "code",
   "execution_count": null,
   "metadata": {},
   "outputs": [],
   "source": [
    "#Check element status\n",
    "ele.is_displayed()\n",
    "ele.is_enabled()\n",
    "ele.is_selected()"
   ]
  },
  {
   "cell_type": "code",
   "execution_count": null,
   "metadata": {},
   "outputs": [],
   "source": [
    "#Synchronization Problems \n",
    "driver.implicitly_wait(time_in_sec) # statemnt you will specify at the begining of the page and will be applicable for all the elements"
   ]
  },
  {
   "cell_type": "code",
   "execution_count": null,
   "metadata": {},
   "outputs": [],
   "source": [
    "driver.maximize_window()"
   ]
  },
  {
   "cell_type": "code",
   "execution_count": null,
   "metadata": {},
   "outputs": [],
   "source": [
    "ele.send_keys(\"Enter the input text\")"
   ]
  },
  {
   "cell_type": "code",
   "execution_count": null,
   "metadata": {},
   "outputs": [],
   "source": [
    "Working With Drop Downs\n",
    "\n",
    "- Find the drop down box using find_element methods \n",
    "- Create the object of Select (from selenium.webdriver.support.ui import Select) class using the above object \n",
    "- To select a perticular value methods available are :\n",
    "     - select_by_visible_text(\"India\")\n",
    "     - select_by_index(2) \n",
    "     - select_by_value(\"India\") # select the value provided in Value attribute\n",
    "        \n",
    "- to get all the options present in the dropdown sel_obj.options : returns all the option elements\n",
    "     you can iterate and get .text value\n",
    "        \n"
   ]
  },
  {
   "cell_type": "code",
   "execution_count": null,
   "metadata": {},
   "outputs": [],
   "source": [
    "Handling Pop ups :\n",
    "    - driver.switch_to_alert().accept()\n",
    "    - driver.switch_to_alert().dismiss()"
   ]
  },
  {
   "cell_type": "code",
   "execution_count": null,
   "metadata": {},
   "outputs": [],
   "source": [
    "wait = WebDriverWait(driver, 10)\n",
    "element = wait.until(EC.element_to_be_clickable((By.ID, 'someid')))"
   ]
  },
  {
   "cell_type": "code",
   "execution_count": null,
   "metadata": {},
   "outputs": [],
   "source": [
    "actions = ActionChains(driver)\n",
    "actions.move_to_element(ContactList.link_contacts(driver)).click().perform()"
   ]
  },
  {
   "cell_type": "code",
   "execution_count": 1,
   "metadata": {},
   "outputs": [],
   "source": [
    "from selenium import webdriver"
   ]
  },
  {
   "cell_type": "code",
   "execution_count": 8,
   "metadata": {},
   "outputs": [],
   "source": [
    "#Automating Gmail Signup\n",
    "from selenium import webdriver\n",
    "\n",
    "driver =  webdriver.Chrome(executable_path = r\"E:\\Resourses\\automation_testing\\Drivers\\chromedriver_win32\\chromedriver.exe\")\n",
    "driver.get(\"https://accounts.google.com/signup/v2/webcreateaccount?flowName=GlifWebSignIn&flowEntry=SignUp\")\n",
    "driver.maximize_window()\n",
    "fn_tb = driver.find_element_by_id(\"firstName\")\n",
    "ln_tb = driver.find_element_by_id(\"lastName\")\n",
    "un_tb = driver.find_element_by_id(\"username\")\n",
    "pw_tb = driver.find_element_by_name(\"Passwd\")\n",
    "cpw_tb = driver.find_element_by_name(\"ConfirmPasswd\")\n",
    "next_btn = driver.find_element_by_id(\"accountDetailsNext\")\n",
    "\n",
    "fn_tb.click()\n",
    "fn_tb.send_keys(\"\")\n",
    "\n",
    "ln_tb.click()\n",
    "ln_tb.send_keys(\"\")\n",
    "\n",
    "un_tb.click()\n",
    "un_tb.send_keys(\"\")\n",
    "\n",
    "pw_tb.click()\n",
    "pw_tb.send_keys(\"\")\n",
    "\n",
    "cpw_tb.click()\n",
    "cpw_tb.send_keys(\"\")\n",
    "\n",
    "next_btn.click()\n",
    "\n",
    "# driver.close()"
   ]
  },
  {
   "cell_type": "markdown",
   "metadata": {},
   "source": [
    "Page Object Model\n",
    " - A page object is an object-oriented class that serves as an interface to a page of your Application Under Test(AUT).\n",
    " - The tests then use the methods of this page object class whenever they need to interact with the User Interface (UI) of that page.\n",
    " - The benefit is that if the UI changes for the page, the tests themselves don’t need to change, only the code within the page object needs to change. Subsequently, all changes to support that new UI is located in one place.\n",
    " - According to Page Object Model, we should keep our tests and element locators separately, this will keep code clean and easy to understand and maintain."
   ]
  },
  {
   "cell_type": "markdown",
   "metadata": {},
   "source": [
    "How To Implement Page Object Model:\n",
    "    - Create a package called \"PageObjects\"\n",
    "    - Create a new class file with Page from AUT\n",
    "    - Create a Class Method for each Element (Object) in the Home Page. Each method will have an Argument (driver) and a Return value (element).\n",
    "    - Every class file will have methods to locate the element and performing actions on those elements.\n",
    "    - Class file will not contain any verification and validation actions. "
   ]
  },
  {
   "cell_type": "code",
   "execution_count": null,
   "metadata": {},
   "outputs": [],
   "source": [
    "Project Structure: \n",
    "    \n",
    "AppModule :\n",
    "    common_func \n",
    "PageObjects \n",
    "    landing => elements and actions on the elements of the page classmethod  \n",
    "            \n",
    "    contacts\n",
    "    contact_details \n",
    "    sales\n",
    "    deals \n",
    "tests\n",
    "    contacts\n",
    "        tc_01\n",
    "        tc_02\n",
    "    sales\n",
    "    marketing "
   ]
  }
 ],
 "metadata": {
  "kernelspec": {
   "display_name": "Python 3",
   "language": "python",
   "name": "python3"
  },
  "language_info": {
   "codemirror_mode": {
    "name": "ipython",
    "version": 3
   },
   "file_extension": ".py",
   "mimetype": "text/x-python",
   "name": "python",
   "nbconvert_exporter": "python",
   "pygments_lexer": "ipython3",
   "version": "3.6.5"
  }
 },
 "nbformat": 4,
 "nbformat_minor": 2
}
