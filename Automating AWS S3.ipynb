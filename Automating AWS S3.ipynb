{
 "cells": [
  {
   "cell_type": "code",
   "execution_count": null,
   "metadata": {},
   "outputs": [],
   "source": [
    "s3 : bucket name : zekelabstraing every file => bucketname/input/text.txt \n",
    "EC2 : pubic and private ip address \n",
    "RDS : db instance\n",
    "IAM : Console access / Programatic access "
   ]
  },
  {
   "cell_type": "code",
   "execution_count": null,
   "metadata": {},
   "outputs": [],
   "source": [
    "pip install boto3"
   ]
  },
  {
   "cell_type": "code",
   "execution_count": null,
   "metadata": {},
   "outputs": [],
   "source": [
    "pip install awscli"
   ]
  },
  {
   "cell_type": "markdown",
   "metadata": {},
   "source": [
    "Verify that the AWS CLI version 1 is installed correctly."
   ]
  },
  {
   "cell_type": "code",
   "execution_count": null,
   "metadata": {},
   "outputs": [],
   "source": [
    "aws --version"
   ]
  },
  {
   "cell_type": "markdown",
   "metadata": {},
   "source": [
    "Configuring AWS CLI from CMD"
   ]
  },
  {
   "cell_type": "code",
   "execution_count": null,
   "metadata": {},
   "outputs": [],
   "source": [
    "C:\\Users\\kunal>aws configure\n",
    "AWS Access Key ID [None]: [Enter the Access Key]\n",
    "AWS Secret Access Key [None]: [Enter the Secret Key] \n",
    "Default region name [None]: Can be left blank\n",
    "Default output format [None]: Can be left blank"
   ]
  },
  {
   "cell_type": "markdown",
   "metadata": {},
   "source": [
    "- Resources represent an object-oriented interface to Amazon Web Services (AWS).\n",
    "- Every resource instance has a number of attributes and methods. These can conceptually be split up into\n",
    "\n",
    "    - Identifiers: An identifier is a unique value that is used to call actions on the resource. Resources must have at least one identifier\n",
    "    \n",
    "    - attributes \n",
    "    - actions : An action is a method which makes a call to the service.\n",
    "    - references : related resource instance\n",
    "    - sub-resources : A sub-resource is similar to a reference, but is a related class rather than an instance.\n",
    "    - collections : A collection provides an iterable interface to a group of resources.\n",
    " - Resources themselves can also be conceptually split into \n",
    "     - Service resources (like sqs, s3, ec2, etc) \n",
    "     - Individual resources (like sqs.Queue or s3.Bucket). \n",
    " - Service resources do not have identifiers or attributes."
   ]
  },
  {
   "cell_type": "markdown",
   "metadata": {},
   "source": [
    "## S3 Access"
   ]
  },
  {
   "cell_type": "code",
   "execution_count": null,
   "metadata": {},
   "outputs": [],
   "source": [
    "Creating a s3 service resource "
   ]
  },
  {
   "cell_type": "code",
   "execution_count": null,
   "metadata": {},
   "outputs": [],
   "source": [
    "s3 = boto3.resource('s3')"
   ]
  },
  {
   "cell_type": "code",
   "execution_count": null,
   "metadata": {},
   "outputs": [],
   "source": [
    "Available actions :\n",
    "    - create_bucket(Bucket = \"New Bucket Name\")\n",
    "    - get_available_subresources() : Returns a list of all the available sub-resources for this Resource."
   ]
  },
  {
   "cell_type": "code",
   "execution_count": null,
   "metadata": {},
   "outputs": [],
   "source": [
    "Sub-resource for s3 - service resource \n",
    "    - Bucket\n",
    "    - Object"
   ]
  },
  {
   "cell_type": "code",
   "execution_count": null,
   "metadata": {},
   "outputs": [],
   "source": [
    "Service Resource Collections \n",
    "\n",
    "buckets: A collection of Bucket resources\n",
    "all() :s3.buckets.all()\n",
    "filter() : Creates an iterable of all Bucket resources in the collection filtered by kwargs passed to method.\n",
    "limit(**kwargs) : Creates an iterable up to a specified amount of Bucket resources in the collection."
   ]
  },
  {
   "cell_type": "code",
   "execution_count": null,
   "metadata": {},
   "outputs": [],
   "source": [
    "Bucket : A resource representing an Amazon Simple Storage Service (S3) Bucket"
   ]
  },
  {
   "cell_type": "code",
   "execution_count": 1,
   "metadata": {},
   "outputs": [
    {
     "name": "stdout",
     "output_type": "stream",
     "text": [
      "s3.Bucket(name='zekelabstraining')\n"
     ]
    }
   ],
   "source": [
    "import boto3\n",
    "\n",
    "s3 = boto3.resource('s3')\n",
    "bucket = s3.Bucket('zekelabstraining')\n",
    "print(bucket)"
   ]
  },
  {
   "cell_type": "code",
   "execution_count": 2,
   "metadata": {},
   "outputs": [
    {
     "name": "stdout",
     "output_type": "stream",
     "text": [
      "s3.bucketsCollection(s3.ServiceResource(), s3.Bucket)\n"
     ]
    }
   ],
   "source": [
    "print(s3.buckets.all())\n"
   ]
  },
  {
   "cell_type": "markdown",
   "metadata": {},
   "source": [
    "Identifier :\n",
    "    name : Bucket's name \n",
    "        \n",
    "Available Actions :\n",
    "\n",
    "    - delete() : Deletes the bucket. All objects (including all object versions and Delete Markers) in the bucket must be deleted before the bucket itself can be deleted.\n",
    "    \n",
    "    - delete_objects() : delete multiple objects from a bucket \n",
    "    - download_file(Key, Filename) : \n",
    "        Key (str) -- The name of the key to download from.\n",
    "        Filename (str) -- The path to the file to download to.\n",
    "    - upload_file(Filename, Key)\n",
    "        Filename (str) -- The path to the file to upload.\n",
    "        Key (str) -- The name of the key to upload to.\n"
   ]
  },
  {
   "cell_type": "code",
   "execution_count": null,
   "metadata": {},
   "outputs": [],
   "source": [
    "Object : A resource representing an Amazon Simple Storage Service (S3) Object"
   ]
  },
  {
   "cell_type": "code",
   "execution_count": null,
   "metadata": {},
   "outputs": [],
   "source": [
    "import boto3\n",
    "\n",
    "s3 = boto3.resource('s3')\n",
    "object = s3.Object('bucket_name','key')"
   ]
  },
  {
   "cell_type": "code",
   "execution_count": null,
   "metadata": {},
   "outputs": [],
   "source": [
    "Identifier :\n",
    "    - bucket_name (string) -- The Object's bucket_name identifier.\n",
    "    - key (string) -- The Object's key identifier. \n",
    "    \n",
    "Available Actions : \n",
    "    - download_file(Filename)\n",
    "    \n",
    "s3 = boto3.resource('s3')\n",
    "s3.Object('mybucket', 'hello.txt').download_file('/tmp/hello.txt')    \n",
    "\n",
    "    - upload_file(Filename): \n",
    "\n",
    "s3 = boto3.resource('s3')\n",
    "s3.Object('mybucket', 'hello.txt').upload_file('/tmp/hello.txt')\n"
   ]
  },
  {
   "cell_type": "code",
   "execution_count": 2,
   "metadata": {},
   "outputs": [],
   "source": [
    "import boto3\n"
   ]
  },
  {
   "cell_type": "code",
   "execution_count": 4,
   "metadata": {},
   "outputs": [],
   "source": [
    "my_bucket = s3.Bucket(name = \"zekelabstraining\")"
   ]
  },
  {
   "cell_type": "code",
   "execution_count": 5,
   "metadata": {},
   "outputs": [
    {
     "name": "stdout",
     "output_type": "stream",
     "text": [
      "s3.ObjectSummary(bucket_name='zekelabstraining', key='input/hello.txt')\n"
     ]
    }
   ],
   "source": [
    "for obj in my_bucket.objects.all():\n",
    "    print(obj)"
   ]
  },
  {
   "cell_type": "code",
   "execution_count": 6,
   "metadata": {},
   "outputs": [],
   "source": [
    "my_bucket.upload_file(\"hello.txt\",\"hello.txt\")"
   ]
  },
  {
   "cell_type": "code",
   "execution_count": 8,
   "metadata": {},
   "outputs": [],
   "source": [
    "s3.Object(\"zekelabstraining\",\"input/hello.txt\").download_file(\"hello_downloaded.txt\")"
   ]
  },
  {
   "cell_type": "code",
   "execution_count": 9,
   "metadata": {},
   "outputs": [
    {
     "name": "stdout",
     "output_type": "stream",
     "text": [
      "{'meta': ResourceMeta('s3', identifiers=['name']), '_name': 'zekelabstraining'}\n"
     ]
    }
   ],
   "source": [
    "print(my_bucket.__dict__)"
   ]
  },
  {
   "cell_type": "code",
   "execution_count": 7,
   "metadata": {},
   "outputs": [],
   "source": [
    "import s3fs"
   ]
  },
  {
   "cell_type": "code",
   "execution_count": 8,
   "metadata": {},
   "outputs": [],
   "source": [
    "fs = s3fs.S3FileSystem()"
   ]
  },
  {
   "cell_type": "code",
   "execution_count": 10,
   "metadata": {},
   "outputs": [
    {
     "name": "stdout",
     "output_type": "stream",
     "text": [
      "b''\n"
     ]
    }
   ],
   "source": [
    "fp = fs.open(\"zekelabstraining/input/hello.txt\")\n",
    "data = fp.read()\n",
    "print(data)\n",
    "fp.close()"
   ]
  }
 ],
 "metadata": {
  "kernelspec": {
   "display_name": "Python 3",
   "language": "python",
   "name": "python3"
  },
  "language_info": {
   "codemirror_mode": {
    "name": "ipython",
    "version": 3
   },
   "file_extension": ".py",
   "mimetype": "text/x-python",
   "name": "python",
   "nbconvert_exporter": "python",
   "pygments_lexer": "ipython3",
   "version": "3.6.5"
  }
 },
 "nbformat": 4,
 "nbformat_minor": 2
}
