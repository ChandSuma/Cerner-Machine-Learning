{
 "cells": [
  {
   "cell_type": "code",
   "execution_count": null,
   "metadata": {},
   "outputs": [],
   "source": [
    "pip install requests "
   ]
  },
  {
   "cell_type": "code",
   "execution_count": null,
   "metadata": {},
   "outputs": [],
   "source": [
    "GET\n",
    "POST \n",
    "PUT\n",
    "DELETE"
   ]
  },
  {
   "cell_type": "code",
   "execution_count": null,
   "metadata": {},
   "outputs": [],
   "source": [
    "import json \n",
    "loads() => json str => python dict  \n",
    "dumps() => python dict => json str "
   ]
  },
  {
   "cell_type": "code",
   "execution_count": null,
   "metadata": {},
   "outputs": [],
   "source": [
    "requests => response => json "
   ]
  },
  {
   "cell_type": "code",
   "execution_count": 22,
   "metadata": {},
   "outputs": [],
   "source": [
    "import requests"
   ]
  },
  {
   "cell_type": "code",
   "execution_count": null,
   "metadata": {},
   "outputs": [],
   "source": [
    "## Get all contacts\n",
    "URL : /contacts/v1/lists/all/contacts/all"
   ]
  },
  {
   "cell_type": "code",
   "execution_count": 38,
   "metadata": {},
   "outputs": [
    {
     "name": "stdout",
     "output_type": "stream",
     "text": [
      "351 {'firstname': {'value': 'qaifi khan'}, 'lastmodifieddate': {'value': '1561900858624'}}\n",
      "401 {'firstname': {'value': 'kunal test'}, 'lastmodifieddate': {'value': '1561901448133'}}\n",
      "451 {'firstname': {'value': 'kunal test2'}, 'lastmodifieddate': {'value': '1561903194079'}}\n"
     ]
    }
   ],
   "source": [
    "import json\n",
    "get_all_contacts_url = \"https://api.hubapi.com/contacts/v1/lists/all/contacts/all?hapikey=api_key\"\n",
    "headers = {}\n",
    "headers[\"Content-Type\"]=\"application/json\"\n",
    "\n",
    "\n",
    "res = requests.get(get_all_contacts_url,headers = headers)\n",
    "# print(res.status_code)\n",
    "# print(type(res.text))\n",
    "\n",
    "d = json.loads(res.text)\n",
    "\n",
    "# print(d.get('contacts'))\n",
    "\n",
    "for contact in d.get('contacts'):\n",
    "    print(contact.get('vid'),contact.get('properties'))"
   ]
  },
  {
   "cell_type": "code",
   "execution_count": 39,
   "metadata": {},
   "outputs": [
    {
     "name": "stdout",
     "output_type": "stream",
     "text": [
      "{\"vid\":851,\"canonical-vid\":851,\"merged-vids\":[],\"portal-id\":6078343,\"is-contact\":true,\"profile-token\":\"AO_T-mO42EHpaT-FkCc7Ur6Pp1QSN09U9Hos1Wm-QcFJdkVYf5TwgmeWfOTqp0-sy69VXganr5X8So2RLk-wKA_SJx7dRZqDd4B5WDoSkdJOTlbnDBuFTHhKQ9-9jpRuo5I0GgXuMBy_\",\"profile-url\":\"https://app.hubspot.com/contacts/6078343/contact/851\",\"properties\":{\"firstname\":{\"value\":\"qqq\",\"versions\":[{\"value\":\"qqq\",\"source-type\":\"API\",\"source-id\":null,\"source-label\":null,\"timestamp\":1574843459031,\"selected\":false}]},\"email\":{\"value\":\"qqq@hubspot.com\",\"versions\":[{\"value\":\"qqq@hubspot.com\",\"source-type\":\"API\",\"source-id\":null,\"source-label\":null,\"timestamp\":1574843459031,\"selected\":false}]},\"lastname\":{\"value\":\"qqq\",\"versions\":[{\"value\":\"qqq\",\"source-type\":\"API\",\"source-id\":null,\"source-label\":null,\"timestamp\":1574843459031,\"selected\":false}]}},\"form-submissions\":[],\"list-memberships\":[],\"identity-profiles\":[{\"vid\":851,\"is-deleted\":false,\"is-contact\":false,\"pointer-vid\":0,\"previous-vid\":0,\"linked-vids\":[],\"saved-at-timestamp\":0,\"deleted-changed-timestamp\":0,\"identities\":[{\"type\":\"EMAIL\",\"value\":\"qqq@hubspot.com\",\"timestamp\":1574843459040,\"is-primary\":true,\"source\":\"UNSPECIFIED\"},{\"type\":\"LEAD_GUID\",\"value\":\"efc99c07-173e-4cb8-8add-0826d02026c9\",\"timestamp\":1574843459142,\"source\":\"UNSPECIFIED\"}]}],\"merge-audits\":[]}\n"
     ]
    }
   ],
   "source": [
    "import json\n",
    "endpoint = 'https://api.hubapi.com/contacts/v1/contact/?hapikey=api_key'\n",
    "headers = {}\n",
    "headers[\"Content-Type\"]=\"application/json\"\n",
    "data =json.dumps({\n",
    "  \"properties\": [\n",
    "    {\n",
    "      \"property\": \"email\",\n",
    "      \"value\": \"qqq@hubspot.com\"\n",
    "    },\n",
    "    {\n",
    "      \"property\": \"firstname\",\n",
    "      \"value\": \"qqq\"\n",
    "    },\n",
    "    {\n",
    "      \"property\": \"lastname\",\n",
    "      \"value\": \"qqq\"\n",
    "    },\n",
    "  ]\n",
    "})\n",
    "\n",
    "\n",
    "r = requests.post( url = endpoint, data = data, headers = headers )\n",
    "\n",
    "print(r.text)\n"
   ]
  },
  {
   "cell_type": "code",
   "execution_count": null,
   "metadata": {},
   "outputs": [],
   "source": [
    "Update Contact :  /contacts/v1/contact/vid/:vid/profile        "
   ]
  },
  {
   "cell_type": "code",
   "execution_count": 40,
   "metadata": {},
   "outputs": [
    {
     "name": "stdout",
     "output_type": "stream",
     "text": [
      "204\n"
     ]
    }
   ],
   "source": [
    "headers = {}\n",
    "headers[\"Content-Type\"]=\"application/json\"\n",
    "data =json.dumps({\n",
    "  \"properties\": [\n",
    "    {\n",
    "      \"property\": \"firstname\",\n",
    "      \"value\": \"qqq\"\n",
    "    },\n",
    "    {\n",
    "      \"property\": \"lastname\",\n",
    "      \"value\": \"ttt\"\n",
    "    },\n",
    "  ]\n",
    "})\n",
    "\n",
    "url = \"https://api.hubapi.com/contacts/v1/contact/vid/851/profile?hapikey=api_key\"\n",
    "res = requests.post(url =url,data= data,headers =headers)\n",
    "print(res.status_code)"
   ]
  },
  {
   "cell_type": "code",
   "execution_count": null,
   "metadata": {},
   "outputs": [],
   "source": [
    "Delete Contact : /contacts/v1/contact/vid/:contact_id        "
   ]
  },
  {
   "cell_type": "code",
   "execution_count": 41,
   "metadata": {},
   "outputs": [
    {
     "name": "stdout",
     "output_type": "stream",
     "text": [
      "{\"vid\":851,\"deleted\":true,\"reason\":\"OK\"}\n"
     ]
    }
   ],
   "source": [
    "res = requests.delete(\"https://api.hubapi.com/contacts/v1/contact/vid/851?hapikey=api_key\")\n",
    "print(res.text)"
   ]
  }
 ],
 "metadata": {
  "kernelspec": {
   "display_name": "Python 3",
   "language": "python",
   "name": "python3"
  },
  "language_info": {
   "codemirror_mode": {
    "name": "ipython",
    "version": 3
   },
   "file_extension": ".py",
   "mimetype": "text/x-python",
   "name": "python",
   "nbconvert_exporter": "python",
   "pygments_lexer": "ipython3",
   "version": "3.6.5"
  }
 },
 "nbformat": 4,
 "nbformat_minor": 2
}
