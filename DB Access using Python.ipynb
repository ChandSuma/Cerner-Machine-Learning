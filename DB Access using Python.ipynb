{
 "cells": [
  {
   "cell_type": "code",
   "execution_count": 13,
   "metadata": {},
   "outputs": [],
   "source": [
    "import mysql.connector"
   ]
  },
  {
   "cell_type": "code",
   "execution_count": 15,
   "metadata": {},
   "outputs": [
    {
     "name": "stdout",
     "output_type": "stream",
     "text": [
      "Help on function connect in module mysql.connector:\n",
      "\n",
      "connect(*args, **kwargs)\n",
      "    Create or get a MySQL connection object\n",
      "    \n",
      "    In its simpliest form, Connect() will open a connection to a\n",
      "    MySQL server and return a MySQLConnection object.\n",
      "    \n",
      "    When any connection pooling arguments are given, for example pool_name\n",
      "    or pool_size, a pool is created or a previously one is used to return\n",
      "    a PooledMySQLConnection.\n",
      "    \n",
      "    Returns MySQLConnection or PooledMySQLConnection.\n",
      "\n"
     ]
    }
   ],
   "source": [
    "help(mysql.connector.connect)"
   ]
  },
  {
   "cell_type": "code",
   "execution_count": null,
   "metadata": {},
   "outputs": [],
   "source": [
    "Dta API 2.0 "
   ]
  },
  {
   "cell_type": "code",
   "execution_count": null,
   "metadata": {},
   "outputs": [],
   "source": [
    "conn = connect(host,port,user,password)\n",
    "\n",
    "cur = conn.cur()\n",
    "\n",
    "cur.execute(\"SQL\")\n",
    "\n",
    "conn.commit()\n",
    "conn.rollback()\n",
    "conn.close()"
   ]
  },
  {
   "cell_type": "code",
   "execution_count": null,
   "metadata": {},
   "outputs": [],
   "source": [
    "sqlite3 - sqlite \n",
    "oracle = > cx_oracle \n",
    "mysql => mysql connector \n",
    "postgres => psycopg2 "
   ]
  },
  {
   "cell_type": "code",
   "execution_count": 4,
   "metadata": {},
   "outputs": [],
   "source": [
    "import mysql.connector"
   ]
  },
  {
   "cell_type": "code",
   "execution_count": 18,
   "metadata": {},
   "outputs": [
    {
     "name": "stdout",
     "output_type": "stream",
     "text": [
      "<mysql.connector.connection_cext.CMySQLConnection object at 0x000001636C94CF60>\n"
     ]
    }
   ],
   "source": [
    "conn = mysql.connector.connect(user='', password='',\n",
    "                              host='',\n",
    "                              database='user',port=3306)\n",
    "print(conn)\n"
   ]
  },
  {
   "cell_type": "code",
   "execution_count": 19,
   "metadata": {},
   "outputs": [],
   "source": [
    "import sqlite3"
   ]
  },
  {
   "cell_type": "code",
   "execution_count": 20,
   "metadata": {},
   "outputs": [],
   "source": [
    "conn = sqlite3.connect(\"test.db\")"
   ]
  },
  {
   "cell_type": "code",
   "execution_count": 21,
   "metadata": {},
   "outputs": [],
   "source": [
    "cur = conn.cursor()"
   ]
  },
  {
   "cell_type": "code",
   "execution_count": 22,
   "metadata": {},
   "outputs": [
    {
     "data": {
      "text/plain": [
       "<sqlite3.Cursor at 0x1636cbdde30>"
      ]
     },
     "execution_count": 22,
     "metadata": {},
     "output_type": "execute_result"
    }
   ],
   "source": [
    "cur.execute(\"\"\"CREATE TABLE IF NOT EXISTS USER(ID INT PRIMARY KEY,NAME TEXT)\"\"\")"
   ]
  },
  {
   "cell_type": "code",
   "execution_count": 25,
   "metadata": {},
   "outputs": [
    {
     "name": "stdout",
     "output_type": "stream",
     "text": [
      "ROw with primary key already exists\n"
     ]
    }
   ],
   "source": [
    "try:\n",
    "    cur.execute(\"\"\"INSERT INTO USER VALUES(1,'ABC') \"\"\")\n",
    "except sqlite3.IntegrityError:\n",
    "    print(\"ROw with primary key already exists\")"
   ]
  },
  {
   "cell_type": "code",
   "execution_count": 26,
   "metadata": {},
   "outputs": [],
   "source": [
    "try:\n",
    "    cur.execute(\"\"\"INSERT INTO USER VALUES(2,'PQR') \"\"\")\n",
    "except sqlite3.IntegrityError:\n",
    "    print(\"ROw with primary key already exists\")"
   ]
  },
  {
   "cell_type": "code",
   "execution_count": 27,
   "metadata": {},
   "outputs": [],
   "source": [
    "user_id = 3\n",
    "user_name = \"RST\"\n",
    "\n",
    "try:\n",
    "    cur.execute(\"\"\"INSERT INTO USER VALUES(?,?) \"\"\",(user_id,user_name))\n",
    "except sqlite3.IntegrityError:\n",
    "    print(\"ROw with primary key already exists\")"
   ]
  },
  {
   "cell_type": "code",
   "execution_count": 29,
   "metadata": {},
   "outputs": [],
   "source": [
    "try:\n",
    "    cur.executemany(\"\"\"INSERT INTO USER VALUES(?,?) \"\"\",[(4,\"PPP\"),(5,\"LLL\")])\n",
    "except sqlite3.IntegrityError:\n",
    "    print(\"ROw with primary key already exists\")"
   ]
  },
  {
   "cell_type": "code",
   "execution_count": 33,
   "metadata": {},
   "outputs": [
    {
     "name": "stdout",
     "output_type": "stream",
     "text": [
      "(1, 'ABC')\n",
      "(2, 'PQR')\n",
      "(3, 'RST')\n",
      "(4, 'PPP')\n",
      "(5, 'LLL')\n"
     ]
    }
   ],
   "source": [
    "cur.execute(\"\"\" SELECT * FROM USER\"\"\")\n",
    "# print(next(cur))\n",
    "# print(cur.fetchall())\n",
    "\n",
    "for row in cur:\n",
    "    print(row)"
   ]
  },
  {
   "cell_type": "code",
   "execution_count": 34,
   "metadata": {},
   "outputs": [
    {
     "data": {
      "text/plain": [
       "<sqlite3.Cursor at 0x1636cbdde30>"
      ]
     },
     "execution_count": 34,
     "metadata": {},
     "output_type": "execute_result"
    }
   ],
   "source": [
    "cur.execute(\"UPDATE USER SET NAME = 'KKK' WHERE ID = 3\")"
   ]
  },
  {
   "cell_type": "code",
   "execution_count": 36,
   "metadata": {},
   "outputs": [
    {
     "name": "stdout",
     "output_type": "stream",
     "text": [
      "(3, 'KKK')\n"
     ]
    }
   ],
   "source": [
    "cur.execute('SELECT * FROM USER WHERE ID = 3')\n",
    "print(next(cur))"
   ]
  },
  {
   "cell_type": "code",
   "execution_count": null,
   "metadata": {},
   "outputs": [],
   "source": [
    "conn.commit()"
   ]
  },
  {
   "cell_type": "code",
   "execution_count": null,
   "metadata": {},
   "outputs": [],
   "source": [
    "conn.rollback()"
   ]
  },
  {
   "cell_type": "code",
   "execution_count": 37,
   "metadata": {},
   "outputs": [],
   "source": [
    "conn.close()"
   ]
  }
 ],
 "metadata": {
  "kernelspec": {
   "display_name": "Python 3",
   "language": "python",
   "name": "python3"
  },
  "language_info": {
   "codemirror_mode": {
    "name": "ipython",
    "version": 3
   },
   "file_extension": ".py",
   "mimetype": "text/x-python",
   "name": "python",
   "nbconvert_exporter": "python",
   "pygments_lexer": "ipython3",
   "version": "3.6.5"
  }
 },
 "nbformat": 4,
 "nbformat_minor": 2
}
